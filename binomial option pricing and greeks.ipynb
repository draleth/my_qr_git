{
 "cells": [
  {
   "cell_type": "code",
   "execution_count": 3,
   "metadata": {},
   "outputs": [],
   "source": [
    "import numpy as np"
   ]
  },
  {
   "cell_type": "markdown",
   "metadata": {},
   "source": [
    "## Binomial Option pricing for European Options"
   ]
  },
  {
   "cell_type": "code",
   "execution_count": 26,
   "metadata": {},
   "outputs": [],
   "source": [
    "def binomial_tree_slow_my(S0,K,T,r,u,d,N,optype='C'):\n",
    "\n",
    "    dt = T/N\n",
    "    p = (np.exp(r*dt)-d)/(u-d)\n",
    "    disc = np.exp(-r*dt)\n",
    "\n",
    "    #compute asset prices at T\n",
    "    S = np.zeros(N+1)\n",
    "    for i in range(0,N+1):\n",
    "        S[i] = S0 * u**(N-i) * d**i\n",
    "    \n",
    "    #compute call prices for all the asset prices created above at T\n",
    "    C = np.zeros(N+1)\n",
    "    for i in range(0,N+1):\n",
    "        C[i] = max(S[i] - K, 0)\n",
    "    \n",
    "    for i in range(N,0,-1):\n",
    "        Ct = np.zeros(i)\n",
    "        for j in range(0,i):\n",
    "            Ct[j] = disc*(p*C[j] + (1-p)*C[j+1])\n",
    "        C = Ct\n",
    "    \n",
    "    return C[0]\n",
    "    "
   ]
  },
  {
   "cell_type": "code",
   "execution_count": 27,
   "metadata": {},
   "outputs": [
    {
     "data": {
      "text/plain": [
       "10.145735799928826"
      ]
     },
     "execution_count": 27,
     "metadata": {},
     "output_type": "execute_result"
    }
   ],
   "source": [
    "binomial_tree_slow_my(100,100,1, 0.06, 1.1, 0.9090909090909091,3)"
   ]
  },
  {
   "cell_type": "code",
   "execution_count": 33,
   "metadata": {},
   "outputs": [
    {
     "data": {
      "text/plain": [
       "array([4, 8], dtype=int32)"
      ]
     },
     "execution_count": 33,
     "metadata": {},
     "output_type": "execute_result"
    }
   ],
   "source": [
    "2**np.arange(1,3) + 2**np.arange(1,3)"
   ]
  },
  {
   "cell_type": "code",
   "execution_count": 58,
   "metadata": {},
   "outputs": [],
   "source": [
    "def binomial_tree_fast_my(S0,K,T,r,u,d,N,optype='C'):\n",
    "\n",
    "    dt = T/N\n",
    "    p = (np.exp(r*dt)-d)/(u-d)\n",
    "    disc = np.exp(-r*dt)\n",
    "\n",
    "    C = S0 * d**(np.arange(N,-1,-1)) * u**(np.arange(0,N+1,1))\n",
    "\n",
    "    C = np.maximum(C-K, np.zeros(N+1))\n",
    "\n",
    "    for i in np.arange(N,0,-1):\n",
    "        C = disc * (p*C[1:i+1] + (1-p)*C[0:i])\n",
    "\n",
    "    return C[0]"
   ]
  },
  {
   "cell_type": "code",
   "execution_count": 57,
   "metadata": {},
   "outputs": [
    {
     "data": {
      "text/plain": [
       "array([10.1457358])"
      ]
     },
     "execution_count": 57,
     "metadata": {},
     "output_type": "execute_result"
    }
   ],
   "source": [
    "binomial_tree_fast_my(100,100,1, 0.06, 1.1, 0.9090909090909091,3)"
   ]
  },
  {
   "cell_type": "markdown",
   "metadata": {},
   "source": [
    "Binomial option pricing for an European option for an underlying that pays dividends"
   ]
  },
  {
   "cell_type": "code",
   "execution_count": 49,
   "metadata": {},
   "outputs": [],
   "source": [
    "def binomial_tree_fast_div(S0,K,T,r,q,std,N,optype='C'):\n",
    "\n",
    "    dt = T/N\n",
    "    a = np.exp((r-q)*dt)\n",
    "    u = np.exp(std*np.sqrt(dt))\n",
    "    d = 1/u\n",
    "    p = (a-d)/(u-d)\n",
    "    disc = np.exp(-r*dt)\n",
    "\n",
    "    C = S0 * d**(np.arange(N,-1,-1)) * u**(np.arange(0,N+1,1))\n",
    "\n",
    "    C = np.maximum(C-K, np.zeros(N+1))\n",
    "\n",
    "    for i in np.arange(N,0,-1):\n",
    "        C = disc * (p*C[1:i+1] + (1-p)*C[0:i])\n",
    "\n",
    "    return C[0]"
   ]
  },
  {
   "cell_type": "code",
   "execution_count": 51,
   "metadata": {},
   "outputs": [
    {
     "data": {
      "text/plain": [
       "17.878801831184887"
      ]
     },
     "execution_count": 51,
     "metadata": {},
     "output_type": "execute_result"
    }
   ],
   "source": [
    "binomial_tree_fast_div(100,100,1, 0.06, 0.03,0.4,3)"
   ]
  },
  {
   "cell_type": "markdown",
   "metadata": {},
   "source": [
    "Barrier exotic option pricing for European options"
   ]
  },
  {
   "cell_type": "code",
   "execution_count": 43,
   "metadata": {},
   "outputs": [],
   "source": [
    "def binomial_tree_barrier(S0,K,T,H,r,u,d,N,optype='C'):\n",
    "    \n",
    "    dt = T/N\n",
    "    p = (np.exp(r*dt) - d)/ (u-d)\n",
    "    disc = np.exp(-r*dt)\n",
    "\n",
    "    S = np.zeros(N+1)\n",
    "    for i in range(0,N+1):\n",
    "        S[i] = S0 * u**(i) * d**(N-i)\n",
    "    \n",
    "    C = np.zeros(N+1)\n",
    "    for i in range(0,N+1):\n",
    "        if S[i] > H:\n",
    "            C[i] = 0\n",
    "        else:\n",
    "            C[i] = max(S[i]-K, 0)\n",
    "    \n",
    "    for i in np.arange(N-1, -1, -1):\n",
    "        for j in range(0,i+1):\n",
    "            S = S0 * u**(j) * d**(i-j)\n",
    "            if S > H:\n",
    "                C[j] = 0\n",
    "            else:\n",
    "                C[j] = disc*(p*C[j+1] + (1-p)*C[j])\n",
    "    return C[0]"
   ]
  },
  {
   "cell_type": "code",
   "execution_count": 44,
   "metadata": {},
   "outputs": [
    {
     "data": {
      "text/plain": [
       "4.00026736854323"
      ]
     },
     "execution_count": 44,
     "metadata": {},
     "output_type": "execute_result"
    }
   ],
   "source": [
    "binomial_tree_barrier(100,100,1, 125,0.06, 1.1, 0.9090909090909091,3)"
   ]
  },
  {
   "cell_type": "code",
   "execution_count": 45,
   "metadata": {},
   "outputs": [],
   "source": [
    "def binomial_tree_barrier_fast(S0,K,T,H,r,u,d,N,optype='C'):\n",
    "\n",
    "    dt = T/N\n",
    "    p = (np.exp(r*dt) - d)/ (u-d)\n",
    "    disc = np.exp(-r*dt)\n",
    "\n",
    "    S = S0 * u**(np.arange(0,N+1,1)) * d**(np.arange(N,-1,-1))\n",
    "\n",
    "    C = np.maximum(S-K,0)\n",
    "\n",
    "    C[S>=H]=0\n",
    "\n",
    "    for i in np.arange(N-1,-1,-1):\n",
    "        S = S0 * u**(np.arange(0,i+1,1)) * d**(np.arange(i,-1,-1))\n",
    "        C[:i+1] = disc * (p*C[1:i+2] + (1-p)*C[0:i+1])\n",
    "        C = C[:-1]\n",
    "        C[S>=H] =0\n",
    "    return C[0]"
   ]
  },
  {
   "cell_type": "code",
   "execution_count": 46,
   "metadata": {},
   "outputs": [
    {
     "data": {
      "text/plain": [
       "4.00026736854323"
      ]
     },
     "execution_count": 46,
     "metadata": {},
     "output_type": "execute_result"
    }
   ],
   "source": [
    "binomial_tree_barrier_fast(100,100,1, 125,0.06, 1.1, 0.9090909090909091,3)"
   ]
  },
  {
   "cell_type": "markdown",
   "metadata": {},
   "source": [
    "#### Greeks"
   ]
  },
  {
   "cell_type": "code",
   "execution_count": 61,
   "metadata": {},
   "outputs": [],
   "source": [
    "def binomial_tree_fast_price(S0,K,T,r,u,d,N,t=0,optype='C'):\n",
    "\n",
    "    dt = T/N\n",
    "    p = (np.exp(r*dt)-d)/(u-d)\n",
    "    disc = np.exp(-r*dt)\n",
    "\n",
    "    C = S0 * d**(np.arange(N,-1,-1)) * u**(np.arange(0,N+1,1))\n",
    "\n",
    "    C = np.maximum(C-K, np.zeros(N+1))\n",
    "\n",
    "    for i in np.arange(N,t,-1):\n",
    "        C = disc * (p*C[1:i+1] + (1-p)*C[0:i])\n",
    "\n",
    "    return C"
   ]
  },
  {
   "cell_type": "code",
   "execution_count": 62,
   "metadata": {},
   "outputs": [],
   "source": [
    "def binomial_tree_fast_div_price(S0,K,T,r,q,std,N,t=0,optype='C'):\n",
    "\n",
    "    dt = T/N\n",
    "    a = np.exp((r-q)*dt)\n",
    "    u = np.exp(std*np.sqrt(dt))\n",
    "    d = 1/u\n",
    "    p = (a-d)/(u-d)\n",
    "    disc = np.exp(-r*dt)\n",
    "\n",
    "    C = S0 * d**(np.arange(N,-1,-1)) * u**(np.arange(0,N+1,1))\n",
    "\n",
    "    C = np.maximum(C-K, np.zeros(N+1))\n",
    "\n",
    "    for i in np.arange(N,t,-1):\n",
    "        C = disc * (p*C[1:i+1] + (1-p)*C[0:i])\n",
    "\n",
    "    return C"
   ]
  },
  {
   "cell_type": "code",
   "execution_count": 79,
   "metadata": {},
   "outputs": [
    {
     "data": {
      "text/plain": [
       "[33.09515992195429, 5.375755694817835]"
      ]
     },
     "execution_count": 79,
     "metadata": {},
     "output_type": "execute_result"
    }
   ],
   "source": [
    "abc = binomial_tree_fast_div_price(100,100,1, 0.06, 0.03,0.4,3,1).tolist()\n",
    "abc.sort(reverse=True)\n",
    "abc"
   ]
  },
  {
   "cell_type": "code",
   "execution_count": 93,
   "metadata": {},
   "outputs": [],
   "source": [
    "class BinomialTree:\n",
    "    def __init__(self,S0,K,T,r,q,std,N,optype='C'):\n",
    "        self.S0 = S0\n",
    "        self.K = K\n",
    "        self.T = T\n",
    "        self.r = r\n",
    "        self.q = q\n",
    "        self.std = std\n",
    "        self.N = N\n",
    "        self.optype = optype\n",
    "\n",
    "        self.dt = T/N\n",
    "        self.a = np.exp((r-q)*self.dt)\n",
    "        self.u = np.exp(std*np.sqrt(self.dt))\n",
    "        self.d = 1/self.u\n",
    "        self.p = (self.a-self.d)/(self.u-self.d)\n",
    "        self.disc = np.exp(-r*self.dt)\n",
    "\n",
    "    def price(self,t=0,std=None,r=None):\n",
    "            \n",
    "        std = std if std is not None else self.std\n",
    "        r = r if r is not None else self.r\n",
    "\n",
    "        if (r != None) or (std != None):\n",
    "            self.dt = self.T / self.N\n",
    "            self.a = np.exp((r - self.q) * self.dt)\n",
    "            self.u = np.exp(std * np.sqrt(self.dt))\n",
    "            self.d = 1 / self.u\n",
    "            self.p = (self.a - self.d) / (self.u - self.d)\n",
    "            self.disc = np.exp(-r * self.dt)\n",
    "\n",
    "        S = self.S0 * self.d**(np.arange(self.N, -1, -1)) * self.u**(np.arange(0, self.N+1, 1))\n",
    "\n",
    "        if self.optype == 'C':\n",
    "            C = np.maximum(S-self.K, 0)\n",
    "        else:\n",
    "            C = np.maximum(self.K-S, 0)\n",
    "        \n",
    "        if t == 0:\n",
    "            for i in np.arange(self.N,0,-1):\n",
    "                C = self.disc * (self.p*C[1:i+1] + (1-self.p)*C[0:i])\n",
    "                if i == 3:\n",
    "                    self.C_2 = C\n",
    "                elif i == 2:\n",
    "                    self.C_1 = C\n",
    "                else:\n",
    "                    continue\n",
    "                return C[0]\n",
    "        else:\n",
    "            for i in np.arange(self.N,t,-1):\n",
    "                C = self.disc * (self.p*C[1:i+1] + (1-self.p)*C[0:i])\n",
    "                C = C.tolist()\n",
    "                C.sort(reverse=True)\n",
    "                return C\n",
    "                \n",
    "    def delta(self,t=1):\n",
    "        if t==1:\n",
    "            C_t = self.C_1\n",
    "        else:\n",
    "            C_t = self.price(t=1)\n",
    "        delta = (C_t[0] - C_t[1])/(self.S0*self.u - self.S0*self.d)\n",
    "        return delta\n",
    "    \n",
    "    def gamma(self,t=2):\n",
    "        if t==2:\n",
    "            C_t = self.C_2\n",
    "        else:\n",
    "            C_t = self.price(t=2)\n",
    "        delta_plus = (C_t[0] - C_t[1])/(self.S0*self.u**2 - self.S0)\n",
    "        delta_minus = (C_t[1] - C_t[2])/(self.S0 - self.S0*self.d**2)\n",
    "        h = 0.5*(self.S0*self.u**2 - self.S0*self.d**2)\n",
    "\n",
    "        gamma = (delta_plus - delta_minus)/h\n",
    "\n",
    "        return gamma\n",
    "    \n",
    "    def theta(self,t=2):\n",
    "        if t==2:\n",
    "            C_t = self.C_2\n",
    "        else:\n",
    "            C_t = self.price(t=2)\n",
    "\n",
    "        theta = (C_t[0] - C_t[2])/(2*self.dt)\n",
    "\n",
    "        return theta\n",
    "    \n",
    "    def vega(self, bp=1):\n",
    "        bpp = bp/100\n",
    "        C_std_plus = self.price(std=self.std + bpp)\n",
    "        C_std_minus = self.price(std=self.std - bpp)\n",
    "\n",
    "        vega = (C_std_plus - C_std_minus)/(2*bpp)\n",
    "\n",
    "        return vega\n",
    "    \n",
    "    def rho(self, bp=1):\n",
    "        bpp = bp/100\n",
    "        C_r_plus = self.price(r=self.r + bpp)\n",
    "        C_r_minus = self.price(r=self.r - bpp)\n",
    "\n",
    "        rho = (C_r_plus - C_r_minus)/(2*bpp)\n",
    "\n",
    "        return rho\n"
   ]
  },
  {
   "cell_type": "code",
   "execution_count": 119,
   "metadata": {},
   "outputs": [],
   "source": [
    "import numpy as np\n",
    "\n",
    "class BinomialTree:\n",
    "    def __init__(self, S0, K, T, r, q, std, N, optype='C'):\n",
    "        self.S0 = S0\n",
    "        self.K = K\n",
    "        self.T = T\n",
    "        self.r = r\n",
    "        self.q = q\n",
    "        self.std = std\n",
    "        self.N = N\n",
    "        self.optype = optype\n",
    "\n",
    "        self.dt = T / N\n",
    "        self.a = np.exp((r - q) * self.dt)\n",
    "        self.u = np.exp(std * np.sqrt(self.dt))\n",
    "        self.d = 1 / self.u\n",
    "        self.p = (self.a - self.d) / (self.u - self.d)\n",
    "        self.disc = np.exp(-r * self.dt)\n",
    "\n",
    "        self.C_1 = None\n",
    "        self.C_2 = None\n",
    "\n",
    "    def price(self, t=0, std=None, r=None):\n",
    "        std = std if std is not None else self.std\n",
    "        r = r if r is not None else self.r\n",
    "\n",
    "        if r is not None or std is not None:\n",
    "            self.dt = self.T / self.N\n",
    "            self.a = np.exp((r - self.q) * self.dt)\n",
    "            self.u = np.exp(std * np.sqrt(self.dt))\n",
    "            self.d = 1 / self.u\n",
    "            self.p = (self.a - self.d) / (self.u - self.d)\n",
    "            self.disc = np.exp(-r * self.dt)\n",
    "\n",
    "        # Calculate initial asset prices at maturity\n",
    "        S = self.S0 * self.d ** (np.arange(self.N, -1, -1)) * self.u ** (np.arange(0, self.N + 1, 1))\n",
    "\n",
    "        # Calculate option payoffs at maturity\n",
    "        if self.optype == 'C':\n",
    "            C = np.maximum(S - self.K, 0)\n",
    "        else:\n",
    "            C = np.maximum(self.K - S, 0)\n",
    "\n",
    "        # Perform backward induction to price the option\n",
    "        if t == 0:\n",
    "            for i in np.arange(self.N, 0, -1):\n",
    "                C = self.disc * (self.p * C[1:i+1] + (1 - self.p) * C[0:i])\n",
    "                # Save intermediate option values for greeks calculation\n",
    "            return C[0]  # Return option price at the root node\n",
    "\n",
    "        else:\n",
    "            for i in np.arange(self.N, t, -1):\n",
    "                C = self.disc * (self.p * C[1:i+1] + (1 - self.p) * C[0:i])\n",
    "            C = C.tolist()\n",
    "            C.sort(reverse=True)\n",
    "            return C  # Return option values at the specified time step\n",
    "\n",
    "    def delta(self, t=1):\n",
    "        C_t = self.price(t=1)\n",
    "        delta = (C_t[0] - C_t[1]) / (self.S0 * self.u - self.S0 * self.d)\n",
    "        return delta\n",
    "\n",
    "    def gamma(self, t=2):\n",
    "\n",
    "        C_t = self.price(t=2)\n",
    "\n",
    "        delta_plus = (C_t[0] - C_t[1]) / (self.S0 * self.u ** 2 - self.S0)\n",
    "        delta_minus = (C_t[1] - C_t[2]) / (self.S0 - self.S0 * self.d ** 2)\n",
    "        h = 0.5 * (self.S0 * self.u ** 2 - self.S0 * self.d ** 2)\n",
    "\n",
    "        gamma = (delta_plus - delta_minus) / h\n",
    "\n",
    "        return gamma\n",
    "\n",
    "    def theta(self, t=2):\n",
    "\n",
    "        C_t = self.price(t=2)\n",
    "\n",
    "        theta = (C_t[0] - C_t[2]) / (2 * self.dt)\n",
    "\n",
    "        return theta\n",
    "\n",
    "    def vega(self, bp=1):\n",
    "        bpp = bp / 100\n",
    "        C_std_plus = self.price(std=self.std + bpp)\n",
    "        C_std_minus = self.price(std=self.std - bpp)\n",
    "\n",
    "        vega = (C_std_plus - C_std_minus) / (2 * bpp)\n",
    "\n",
    "        return vega\n",
    "\n",
    "    def rho(self, bp=1):\n",
    "        bpp = bp / 100\n",
    "        C_r_plus = self.price(r=self.r + bpp)\n",
    "        C_r_minus = self.price(r=self.r - bpp)\n",
    "\n",
    "        rho = (C_r_plus - C_r_minus) / (2 * bpp)\n",
    "\n",
    "        return rho\n"
   ]
  },
  {
   "cell_type": "code",
   "execution_count": 120,
   "metadata": {},
   "outputs": [],
   "source": [
    "option = BinomialTree(S0=100, K=100, T=1, r=0.05, q=0.02, std=0.2, N=6)"
   ]
  },
  {
   "cell_type": "code",
   "execution_count": 121,
   "metadata": {},
   "outputs": [
    {
     "data": {
      "text/plain": [
       "0.5849662682044122"
      ]
     },
     "execution_count": 121,
     "metadata": {},
     "output_type": "execute_result"
    }
   ],
   "source": [
    "option.delta()"
   ]
  },
  {
   "cell_type": "code",
   "execution_count": 122,
   "metadata": {},
   "outputs": [
    {
     "data": {
      "text/plain": [
       "0.022094089566772588"
      ]
     },
     "execution_count": 122,
     "metadata": {},
     "output_type": "execute_result"
    }
   ],
   "source": [
    "option.gamma()"
   ]
  },
  {
   "cell_type": "code",
   "execution_count": 123,
   "metadata": {},
   "outputs": [
    {
     "data": {
      "text/plain": [
       "57.39914529083102"
      ]
     },
     "execution_count": 123,
     "metadata": {},
     "output_type": "execute_result"
    }
   ],
   "source": [
    "option.theta()"
   ]
  },
  {
   "cell_type": "code",
   "execution_count": 124,
   "metadata": {},
   "outputs": [
    {
     "data": {
      "text/plain": [
       "36.35951586286383"
      ]
     },
     "execution_count": 124,
     "metadata": {},
     "output_type": "execute_result"
    }
   ],
   "source": [
    "option.vega()"
   ]
  },
  {
   "cell_type": "code",
   "execution_count": 125,
   "metadata": {},
   "outputs": [
    {
     "data": {
      "text/plain": [
       "49.38564202421816"
      ]
     },
     "execution_count": 125,
     "metadata": {},
     "output_type": "execute_result"
    }
   ],
   "source": [
    "option.rho()"
   ]
  },
  {
   "cell_type": "markdown",
   "metadata": {},
   "source": [
    "## Binomial Option pricing for American Options"
   ]
  },
  {
   "cell_type": "code",
   "execution_count": 36,
   "metadata": {},
   "outputs": [],
   "source": [
    "def binomial_american_fast(S0,K,T,r,u,d,N,optype='C'):\n",
    "\n",
    "    dt = T/N\n",
    "    disc = np.exp(-r*dt)\n",
    "    p = (np.exp(r*dt)-d)/(u-d)\n",
    "\n",
    "    S = S0 * d**(np.arange(N,-1,-1)) * u**(np.arange(0,N+1,1))\n",
    "\n",
    "    if optype=='C':\n",
    "        C = np.maximum(S-K, 0)\n",
    "    else:\n",
    "        C = np.maximum(K-S, 0)\n",
    "\n",
    "    for i in np.arange(N-1,-1,-1):\n",
    "        S = S0 * d**(np.arange(i,-1,-1)) * u**(np.arange(0,i+1,1))\n",
    "        C[:i+1] = (disc*(p*C[1:i+2] + (1-p)*C[0:i+1]))\n",
    "        C = C[:-1]\n",
    "        if optype=='C':\n",
    "            C = np.maximum(S-K, C)\n",
    "        else:\n",
    "            C = np.maximum(K-S, C)\n",
    "    \n",
    "    return C[0]"
   ]
  },
  {
   "cell_type": "code",
   "execution_count": 37,
   "metadata": {},
   "outputs": [
    {
     "data": {
      "text/plain": [
       "4.654588754602527"
      ]
     },
     "execution_count": 37,
     "metadata": {},
     "output_type": "execute_result"
    }
   ],
   "source": [
    "binomial_american_fast(100,100,1, 0.06, 1.1, 0.9090909090909091,3,'P')"
   ]
  },
  {
   "cell_type": "code",
   "execution_count": 54,
   "metadata": {},
   "outputs": [],
   "source": [
    "def binomial_american_fast_div(S0,K,T,r,q,std,N,optype='C'):\n",
    "\n",
    "    dt = T/N\n",
    "    a = np.exp((r-q)*dt)\n",
    "    u = np.exp(std*np.sqrt(dt))\n",
    "    d = 1/u\n",
    "    p = (a-d)/(u-d)\n",
    "    disc = np.exp(-r*dt)\n",
    "\n",
    "    S = S0 * d**(np.arange(N,-1,-1)) * u**(np.arange(0,N+1,1))\n",
    "\n",
    "    if optype=='C':\n",
    "        C = np.maximum(S-K, 0)\n",
    "    else:\n",
    "        C = np.maximum(K-S, 0)\n",
    "\n",
    "    for i in np.arange(N-1,-1,-1):\n",
    "        S = S0 * d**(np.arange(i,-1,-1)) * u**(np.arange(0,i+1,1))\n",
    "        C[:i+1] = (disc*(p*C[1:i+2] + (1-p)*C[0:i+1]))\n",
    "        C = C[:-1]\n",
    "        if optype=='C':\n",
    "            C = np.maximum(S-K, C)\n",
    "        else:\n",
    "            C = np.maximum(K-S, C)\n",
    "    \n",
    "    return C[0]"
   ]
  },
  {
   "cell_type": "code",
   "execution_count": 55,
   "metadata": {},
   "outputs": [
    {
     "data": {
      "text/plain": [
       "17.878801831184887"
      ]
     },
     "execution_count": 55,
     "metadata": {},
     "output_type": "execute_result"
    }
   ],
   "source": [
    "binomial_american_fast_div(100,100,1, 0.06, 0.03,0.4,3)"
   ]
  },
  {
   "cell_type": "code",
   "execution_count": null,
   "metadata": {},
   "outputs": [],
   "source": []
  }
 ],
 "metadata": {
  "kernelspec": {
   "display_name": "base",
   "language": "python",
   "name": "python3"
  },
  "language_info": {
   "codemirror_mode": {
    "name": "ipython",
    "version": 3
   },
   "file_extension": ".py",
   "mimetype": "text/x-python",
   "name": "python",
   "nbconvert_exporter": "python",
   "pygments_lexer": "ipython3",
   "version": "3.10.14"
  }
 },
 "nbformat": 4,
 "nbformat_minor": 2
}
