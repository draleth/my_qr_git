{
 "cells": [
  {
   "cell_type": "code",
   "execution_count": 1,
   "metadata": {},
   "outputs": [],
   "source": [
    "import numpy as np\n",
    "from scipy.stats import norm"
   ]
  },
  {
   "cell_type": "code",
   "execution_count": 2,
   "metadata": {},
   "outputs": [],
   "source": [
    "class BlackScholesModel:\n",
    "    def __init__(self, S0, K, T, r, q, sigma, option='C'):\n",
    "        \n",
    "        self.S0 = S0\n",
    "        self.K = K\n",
    "        self.T = T\n",
    "        self.r = r\n",
    "        self.q = q\n",
    "        self.sigma = sigma\n",
    "        self.option = option\n",
    "\n",
    "    def d1(self):\n",
    "        \n",
    "        return (np.log(self.S0/self.K) + (self.r - self.q + (self.sigma**2)/2)*self.T)/(self.sigma * self.T**0.5)\n",
    "    \n",
    "    def d2(self):\n",
    "\n",
    "        return self.d1() - (self.sigma * self.T**0.5)\n",
    "    \n",
    "    def option_price(self):\n",
    "\n",
    "        d1 = self.d1()\n",
    "        d2 = self.d2()\n",
    "        disc = np.exp(-self.r * self.T)\n",
    "        div = np.exp(-self.q * self.T)\n",
    "\n",
    "        if self.option == 'C':\n",
    "\n",
    "            return (self.S0 * div * norm.cdf(d1)) - (self.K * disc * norm.cdf(d2))\n",
    "        \n",
    "        elif self.option == 'P':\n",
    "\n",
    "            return (self.K * disc * norm.cdf(-d2)) - (self.S0 * div * norm.cdf(-d1))\n",
    "    \n",
    "    def delta(self):\n",
    "        d1 = self.d1()\n",
    "\n",
    "        if self.option == 'C':\n",
    "            return np.exp(-self.q * self.T) * norm.cdf(d1)\n",
    "        \n",
    "        elif self.option == 'P':\n",
    "            return np.exp(-self.q * self.T) * (norm.cdf(d1) - 1)\n",
    "        \n",
    "    def gamma(self):\n",
    "\n",
    "        d1= self.d1()\n",
    "\n",
    "        return (np.exp(-self.q * self.T) * norm.pdf(d1)) / (self.S0 * self.sigma * np.sqrt(self.T))\n",
    "    \n",
    "    def vega(self):\n",
    "\n",
    "        d1 = self.d1()\n",
    "\n",
    "        return self.S0 * np.exp(-self.q * self.T) * norm.pdf(d1) * np.sqrt(self.T) * 0.01\n",
    "    \n",
    "    def rho(self):\n",
    "\n",
    "        d2=self.d2()\n",
    "\n",
    "        if self.option == 'C':\n",
    "            return self.K * self.T * np.exp(-self.r * self.T) * norm.cdf(d2) * 0.01\n",
    "        elif self.option == 'P':\n",
    "            return -self.K * self.T * np.exp(-self.r * self.T) * norm.cdf(-d2) * 0.01\n",
    "        \n",
    "    def theta(self):\n",
    "\n",
    "        d1=self.d1()\n",
    "        d2=self.d2()\n",
    "        Nd1 = norm.cdf(d1)\n",
    "        Nd2 = norm.cdf(d2)\n",
    "\n",
    "        term1 = (self.S0 * self.sigma * np.exp(-self.q * self.T) * norm.pdf(d1))/(2* np.sqrt(self.T))\n",
    "\n",
    "        if self.option=='C':\n",
    "\n",
    "            return (-term1 -(self.r * self.K * np.exp(-self.r * self.T) * Nd2) +(self.q * self.S0 * np.exp(-self.q * self.T) * Nd1))/365\n",
    "        elif self.option=='P':\n",
    "            return (-term1 +(self.r * self.K * np.exp(-self.r * self.T) * (1-Nd2)) -(self.q * self.S0 * np.exp(-self.q * self.T) * (1-Nd1)))/365\n"
   ]
  },
  {
   "cell_type": "code",
   "execution_count": 28,
   "metadata": {},
   "outputs": [
    {
     "data": {
      "text/plain": [
       "0.0016297298663031923"
      ]
     },
     "execution_count": 28,
     "metadata": {},
     "output_type": "execute_result"
    }
   ],
   "source": [
    "option = BlackScholesModel(50,100,1,0.05,0.02,0.2,'C')\n",
    "option.option_price()"
   ]
  },
  {
   "cell_type": "code",
   "execution_count": 29,
   "metadata": {},
   "outputs": [
    {
     "data": {
      "text/plain": [
       "-3.215735902799726"
      ]
     },
     "execution_count": 29,
     "metadata": {},
     "output_type": "execute_result"
    }
   ],
   "source": [
    "option.d1()"
   ]
  },
  {
   "cell_type": "code",
   "execution_count": 30,
   "metadata": {},
   "outputs": [
    {
     "data": {
      "text/plain": [
       "0.0006505525434168256"
      ]
     },
     "execution_count": 30,
     "metadata": {},
     "output_type": "execute_result"
    }
   ],
   "source": [
    "norm.cdf(option.d1())"
   ]
  },
  {
   "cell_type": "code",
   "execution_count": 31,
   "metadata": {},
   "outputs": [
    {
     "data": {
      "text/plain": [
       "-3.4157359027997263"
      ]
     },
     "execution_count": 31,
     "metadata": {},
     "output_type": "execute_result"
    }
   ],
   "source": [
    "option.d2()"
   ]
  },
  {
   "cell_type": "code",
   "execution_count": 32,
   "metadata": {},
   "outputs": [
    {
     "data": {
      "text/plain": [
       "0.0003180495299359769"
      ]
     },
     "execution_count": 32,
     "metadata": {},
     "output_type": "execute_result"
    }
   ],
   "source": [
    "norm.cdf(option.d2())"
   ]
  },
  {
   "cell_type": "code",
   "execution_count": 33,
   "metadata": {},
   "outputs": [
    {
     "data": {
      "text/plain": [
       "0.0006376707399735078"
      ]
     },
     "execution_count": 33,
     "metadata": {},
     "output_type": "execute_result"
    }
   ],
   "source": [
    "option.delta()"
   ]
  },
  {
   "cell_type": "code",
   "execution_count": 14,
   "metadata": {},
   "outputs": [
    {
     "data": {
      "text/plain": [
       "0.018950578755008718"
      ]
     },
     "execution_count": 14,
     "metadata": {},
     "output_type": "execute_result"
    }
   ],
   "source": [
    "option.gamma()"
   ]
  },
  {
   "cell_type": "code",
   "execution_count": 15,
   "metadata": {},
   "outputs": [
    {
     "data": {
      "text/plain": [
       "0.37901157510017436"
      ]
     },
     "execution_count": 15,
     "metadata": {},
     "output_type": "execute_result"
    }
   ],
   "source": [
    "option.vega()"
   ]
  },
  {
   "cell_type": "code",
   "execution_count": 16,
   "metadata": {},
   "outputs": [
    {
     "data": {
      "text/plain": [
       "0.49458109105322356"
      ]
     },
     "execution_count": 16,
     "metadata": {},
     "output_type": "execute_result"
    }
   ],
   "source": [
    "option.rho()"
   ]
  },
  {
   "cell_type": "code",
   "execution_count": 17,
   "metadata": {},
   "outputs": [
    {
     "data": {
      "text/plain": [
       "-0.013943339490406393"
      ]
     },
     "execution_count": 17,
     "metadata": {},
     "output_type": "execute_result"
    }
   ],
   "source": [
    "option.theta()"
   ]
  },
  {
   "cell_type": "code",
   "execution_count": null,
   "metadata": {},
   "outputs": [],
   "source": []
  }
 ],
 "metadata": {
  "kernelspec": {
   "display_name": "base",
   "language": "python",
   "name": "python3"
  },
  "language_info": {
   "codemirror_mode": {
    "name": "ipython",
    "version": 3
   },
   "file_extension": ".py",
   "mimetype": "text/x-python",
   "name": "python",
   "nbconvert_exporter": "python",
   "pygments_lexer": "ipython3",
   "version": "3.10.14"
  }
 },
 "nbformat": 4,
 "nbformat_minor": 2
}
